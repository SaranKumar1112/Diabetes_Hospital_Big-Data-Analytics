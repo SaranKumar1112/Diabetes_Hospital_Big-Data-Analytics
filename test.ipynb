{
 "cells": [
  {
   "cell_type": "code",
   "execution_count": 21,
   "metadata": {},
   "outputs": [],
   "source": [
    "import pandas as pd\n",
    "\n",
    "# Load the original data that contains the 'discharge_disposition_id' column\n",
    "original_data = pd.read_csv('diabetic_data.csv')\n",
    "\n",
    "# Load your current DataFrame (if not already loaded)\n",
    "data_f = pd.read_csv('cleaned_diabetic_data_with_Median.csv')\n",
    "\n",
    "# Add the 'discharge_disposition_id' column back to your current DataFrame\n",
    "data_f['discharge_disposition_id'] = original_data['discharge_disposition_id']\n",
    "\n",
    "# Save the updated DataFrame if needed\n",
    "data_f.to_csv('updated cleaned_diabetic_data_with_Median.csv', index=False)\n"
   ]
  },
  {
   "cell_type": "code",
   "execution_count": 22,
   "metadata": {},
   "outputs": [
    {
     "name": "stdout",
     "output_type": "stream",
     "text": [
      "   time_in_hospital  num_lab_procedures  num_medications  number_diagnoses  \\\n",
      "0                 1                  41                1                 1   \n",
      "1                 3                  59               18                 9   \n",
      "2                 2                  11               13                 6   \n",
      "3                 2                  44               16                 7   \n",
      "4                 1                  51                8                 5   \n",
      "\n",
      "   discharge_disposition_id  number_outpatient      age  number_emergency  \\\n",
      "0                        25                  0   (0-10)                 0   \n",
      "1                         1                  0  (10-20)                 0   \n",
      "2                         1                  2  (20-30)                 0   \n",
      "3                         1                  0  (30-40)                 0   \n",
      "4                         1                  0  (40-50)                 0   \n",
      "\n",
      "   num_procedures readmitted  \n",
      "0               0         NO  \n",
      "1               0        >30  \n",
      "2               5         NO  \n",
      "3               1         NO  \n",
      "4               0         NO  \n"
     ]
    }
   ],
   "source": [
    "import pandas as pd\n",
    "\n",
    "#load data\n",
    "data_f = pd.read_csv('updated cleaned_diabetic_data_with_Median.csv')\n",
    "\n",
    "#key variables\n",
    "columns_chosen = [\n",
    "    'time_in_hospital', \n",
    "    'num_lab_procedures', \n",
    "    'num_medications', \n",
    "    'number_diagnoses', \n",
    "    'discharge_disposition_id', \n",
    "    'number_outpatient',\n",
    "    'age',\n",
    "    'number_emergency',\n",
    "    'num_procedures',\n",
    "    'readmitted'\n",
    "]\n",
    "\n",
    "df_select = data_f[columns_chosen]\n",
    "\n",
    "\n",
    "print(df_select.head())\n"
   ]
  }
 ],
 "metadata": {
  "kernelspec": {
   "display_name": "Python 3",
   "language": "python",
   "name": "python3"
  },
  "language_info": {
   "codemirror_mode": {
    "name": "ipython",
    "version": 3
   },
   "file_extension": ".py",
   "mimetype": "text/x-python",
   "name": "python",
   "nbconvert_exporter": "python",
   "pygments_lexer": "ipython3",
   "version": "3.12.0"
  }
 },
 "nbformat": 4,
 "nbformat_minor": 2
}
